{
 "cells": [
  {
   "cell_type": "code",
   "execution_count": 1,
   "metadata": {},
   "outputs": [],
   "source": [
    "import matplotlib.pyplot as plt\n",
    "import numpy as np\n",
    "import astropy.io.ascii\n",
    "%matplotlib inline"
   ]
  },
  {
   "cell_type": "code",
   "execution_count": 18,
   "metadata": {
    "scrolled": false
   },
   "outputs": [
    {
     "name": "stdout",
     "output_type": "stream",
     "text": [
      "Requirement already satisfied: radvel in /home/idies/miniconda3/envs/py37/lib/python3.7/site-packages (1.4.9)\n",
      "Requirement already satisfied: pandas>=0.20.0 in /home/idies/miniconda3/envs/py37/lib/python3.7/site-packages (from radvel) (0.25.1)\n",
      "Requirement already satisfied: emcee>=3.0.2 in /home/idies/miniconda3/envs/py37/lib/python3.7/site-packages (from radvel) (3.1.1)\n",
      "Requirement already satisfied: scipy>=0.17 in /home/idies/miniconda3/envs/py37/lib/python3.7/site-packages (from radvel) (1.7.3)\n",
      "Requirement already satisfied: numpy>=1.16 in /home/idies/miniconda3/envs/py37/lib/python3.7/site-packages (from radvel) (1.21.5)\n",
      "Requirement already satisfied: nbsphinx>=0.3.3 in /home/idies/miniconda3/envs/py37/lib/python3.7/site-packages (from radvel) (0.8.8)\n",
      "Requirement already satisfied: ipykernel>=4.10.0 in /home/idies/miniconda3/envs/py37/lib/python3.7/site-packages (from radvel) (5.1.2)\n",
      "Requirement already satisfied: cython>=0.23 in /home/idies/miniconda3/envs/py37/lib/python3.7/site-packages (from radvel) (0.29.13)\n",
      "Requirement already satisfied: jinja2>=2.9 in /home/idies/miniconda3/envs/py37/lib/python3.7/site-packages (from radvel) (2.10.3)\n",
      "Requirement already satisfied: matplotlib>=1.5.3 in /home/idies/miniconda3/envs/py37/lib/python3.7/site-packages (from radvel) (3.5.1)\n",
      "Requirement already satisfied: corner>=2.0 in /home/idies/miniconda3/envs/py37/lib/python3.7/site-packages (from radvel) (2.2.1)\n",
      "Requirement already satisfied: dill in /home/idies/miniconda3/envs/py37/lib/python3.7/site-packages (from radvel) (0.3.1.1)\n",
      "Requirement already satisfied: jupyter-client>=5.2.4 in /home/idies/miniconda3/envs/py37/lib/python3.7/site-packages (from radvel) (5.3.3)\n",
      "Requirement already satisfied: python-dateutil>=2.5.0 in /home/idies/miniconda3/envs/py37/lib/python3.7/site-packages (from radvel) (2.8.0)\n",
      "Requirement already satisfied: astropy>=1.1.2 in /home/idies/miniconda3/envs/py37/lib/python3.7/site-packages (from radvel) (4.3.1)\n",
      "Requirement already satisfied: pytz>=2017.2 in /home/idies/miniconda3/envs/py37/lib/python3.7/site-packages (from pandas>=0.20.0->radvel) (2019.3)\n",
      "Requirement already satisfied: nbformat in /home/idies/miniconda3/envs/py37/lib/python3.7/site-packages (from nbsphinx>=0.3.3->radvel) (4.4.0)\n",
      "Requirement already satisfied: nbconvert!=5.4 in /home/idies/miniconda3/envs/py37/lib/python3.7/site-packages (from nbsphinx>=0.3.3->radvel) (5.6.0)\n",
      "Requirement already satisfied: docutils in /home/idies/miniconda3/envs/py37/lib/python3.7/site-packages (from nbsphinx>=0.3.3->radvel) (0.15.2)\n",
      "Requirement already satisfied: traitlets in /home/idies/miniconda3/envs/py37/lib/python3.7/site-packages (from nbsphinx>=0.3.3->radvel) (4.3.3)\n",
      "Requirement already satisfied: sphinx>=1.8 in /home/idies/miniconda3/envs/py37/lib/python3.7/site-packages (from nbsphinx>=0.3.3->radvel) (2.2.0)\n",
      "Requirement already satisfied: tornado>=4.2 in /home/idies/miniconda3/envs/py37/lib/python3.7/site-packages (from ipykernel>=4.10.0->radvel) (6.0.3)\n",
      "Requirement already satisfied: ipython>=5.0.0 in /home/idies/miniconda3/envs/py37/lib/python3.7/site-packages (from ipykernel>=4.10.0->radvel) (7.8.0)\n",
      "Requirement already satisfied: MarkupSafe>=0.23 in /home/idies/miniconda3/envs/py37/lib/python3.7/site-packages (from jinja2>=2.9->radvel) (1.1.1)\n",
      "Requirement already satisfied: kiwisolver>=1.0.1 in /home/idies/miniconda3/envs/py37/lib/python3.7/site-packages (from matplotlib>=1.5.3->radvel) (1.1.0)\n",
      "Requirement already satisfied: pillow>=6.2.0 in /home/idies/miniconda3/envs/py37/lib/python3.7/site-packages (from matplotlib>=1.5.3->radvel) (6.2.0)\n",
      "Requirement already satisfied: pyparsing>=2.2.1 in /home/idies/miniconda3/envs/py37/lib/python3.7/site-packages (from matplotlib>=1.5.3->radvel) (2.4.2)\n",
      "Requirement already satisfied: packaging>=20.0 in /home/idies/miniconda3/envs/py37/lib/python3.7/site-packages (from matplotlib>=1.5.3->radvel) (21.3)\n",
      "Requirement already satisfied: cycler>=0.10 in /home/idies/miniconda3/envs/py37/lib/python3.7/site-packages (from matplotlib>=1.5.3->radvel) (0.10.0)\n",
      "Requirement already satisfied: fonttools>=4.22.0 in /home/idies/miniconda3/envs/py37/lib/python3.7/site-packages (from matplotlib>=1.5.3->radvel) (4.29.1)\n",
      "Requirement already satisfied: pyzmq>=13 in /home/idies/miniconda3/envs/py37/lib/python3.7/site-packages (from jupyter-client>=5.2.4->radvel) (18.1.0)\n",
      "Requirement already satisfied: jupyter-core in /home/idies/miniconda3/envs/py37/lib/python3.7/site-packages (from jupyter-client>=5.2.4->radvel) (4.5.0)\n",
      "Requirement already satisfied: six>=1.5 in /home/idies/miniconda3/envs/py37/lib/python3.7/site-packages (from python-dateutil>=2.5.0->radvel) (1.12.0)\n",
      "Requirement already satisfied: importlib-metadata; python_version == \"3.7\" in /home/idies/miniconda3/envs/py37/lib/python3.7/site-packages (from astropy>=1.1.2->radvel) (0.23)\n",
      "Requirement already satisfied: pyerfa>=1.7.3 in /home/idies/miniconda3/envs/py37/lib/python3.7/site-packages (from astropy>=1.1.2->radvel) (2.0.0.1)\n",
      "Requirement already satisfied: ipython-genutils in /home/idies/miniconda3/envs/py37/lib/python3.7/site-packages (from nbformat->nbsphinx>=0.3.3->radvel) (0.2.0)\n",
      "Requirement already satisfied: jsonschema!=2.5.0,>=2.4 in /home/idies/miniconda3/envs/py37/lib/python3.7/site-packages (from nbformat->nbsphinx>=0.3.3->radvel) (3.0.2)\n",
      "Requirement already satisfied: mistune<2,>=0.8.1 in /home/idies/miniconda3/envs/py37/lib/python3.7/site-packages (from nbconvert!=5.4->nbsphinx>=0.3.3->radvel) (0.8.4)\n",
      "Requirement already satisfied: pygments in /home/idies/miniconda3/envs/py37/lib/python3.7/site-packages (from nbconvert!=5.4->nbsphinx>=0.3.3->radvel) (2.4.2)\n",
      "Requirement already satisfied: testpath in /home/idies/miniconda3/envs/py37/lib/python3.7/site-packages (from nbconvert!=5.4->nbsphinx>=0.3.3->radvel) (0.4.2)\n",
      "Requirement already satisfied: bleach in /home/idies/miniconda3/envs/py37/lib/python3.7/site-packages (from nbconvert!=5.4->nbsphinx>=0.3.3->radvel) (3.1.0)\n",
      "Requirement already satisfied: entrypoints>=0.2.2 in /home/idies/miniconda3/envs/py37/lib/python3.7/site-packages (from nbconvert!=5.4->nbsphinx>=0.3.3->radvel) (0.3)\n",
      "Requirement already satisfied: pandocfilters>=1.4.1 in /home/idies/miniconda3/envs/py37/lib/python3.7/site-packages (from nbconvert!=5.4->nbsphinx>=0.3.3->radvel) (1.4.2)\n",
      "Requirement already satisfied: defusedxml in /home/idies/miniconda3/envs/py37/lib/python3.7/site-packages (from nbconvert!=5.4->nbsphinx>=0.3.3->radvel) (0.6.0)\n",
      "Requirement already satisfied: decorator in /home/idies/miniconda3/envs/py37/lib/python3.7/site-packages (from traitlets->nbsphinx>=0.3.3->radvel) (4.4.0)\n",
      "Requirement already satisfied: sphinxcontrib-serializinghtml in /home/idies/miniconda3/envs/py37/lib/python3.7/site-packages (from sphinx>=1.8->nbsphinx>=0.3.3->radvel) (1.1.3)\n",
      "Requirement already satisfied: imagesize in /home/idies/miniconda3/envs/py37/lib/python3.7/site-packages (from sphinx>=1.8->nbsphinx>=0.3.3->radvel) (1.1.0)\n",
      "Requirement already satisfied: setuptools in /home/idies/miniconda3/envs/py37/lib/python3.7/site-packages (from sphinx>=1.8->nbsphinx>=0.3.3->radvel) (41.4.0)\n",
      "Requirement already satisfied: alabaster<0.8,>=0.7 in /home/idies/miniconda3/envs/py37/lib/python3.7/site-packages (from sphinx>=1.8->nbsphinx>=0.3.3->radvel) (0.7.12)\n",
      "Requirement already satisfied: sphinxcontrib-qthelp in /home/idies/miniconda3/envs/py37/lib/python3.7/site-packages (from sphinx>=1.8->nbsphinx>=0.3.3->radvel) (1.0.2)\n",
      "Requirement already satisfied: requests>=2.5.0 in /home/idies/miniconda3/envs/py37/lib/python3.7/site-packages (from sphinx>=1.8->nbsphinx>=0.3.3->radvel) (2.22.0)\n",
      "Requirement already satisfied: snowballstemmer>=1.1 in /home/idies/miniconda3/envs/py37/lib/python3.7/site-packages (from sphinx>=1.8->nbsphinx>=0.3.3->radvel) (2.0.0)\n",
      "Requirement already satisfied: sphinxcontrib-htmlhelp in /home/idies/miniconda3/envs/py37/lib/python3.7/site-packages (from sphinx>=1.8->nbsphinx>=0.3.3->radvel) (1.0.2)\n",
      "Requirement already satisfied: sphinxcontrib-jsmath in /home/idies/miniconda3/envs/py37/lib/python3.7/site-packages (from sphinx>=1.8->nbsphinx>=0.3.3->radvel) (1.0.1)\n",
      "Requirement already satisfied: sphinxcontrib-applehelp in /home/idies/miniconda3/envs/py37/lib/python3.7/site-packages (from sphinx>=1.8->nbsphinx>=0.3.3->radvel) (1.0.1)\n",
      "Requirement already satisfied: sphinxcontrib-devhelp in /home/idies/miniconda3/envs/py37/lib/python3.7/site-packages (from sphinx>=1.8->nbsphinx>=0.3.3->radvel) (1.0.1)\n",
      "Requirement already satisfied: babel!=2.0,>=1.3 in /home/idies/miniconda3/envs/py37/lib/python3.7/site-packages (from sphinx>=1.8->nbsphinx>=0.3.3->radvel) (2.7.0)\n",
      "Requirement already satisfied: backcall in /home/idies/miniconda3/envs/py37/lib/python3.7/site-packages (from ipython>=5.0.0->ipykernel>=4.10.0->radvel) (0.1.0)\n",
      "Requirement already satisfied: jedi>=0.10 in /home/idies/miniconda3/envs/py37/lib/python3.7/site-packages (from ipython>=5.0.0->ipykernel>=4.10.0->radvel) (0.15.1)\n",
      "Requirement already satisfied: pexpect; sys_platform != \"win32\" in /home/idies/miniconda3/envs/py37/lib/python3.7/site-packages (from ipython>=5.0.0->ipykernel>=4.10.0->radvel) (4.7.0)\n",
      "Requirement already satisfied: prompt-toolkit<2.1.0,>=2.0.0 in /home/idies/miniconda3/envs/py37/lib/python3.7/site-packages (from ipython>=5.0.0->ipykernel>=4.10.0->radvel) (2.0.10)\n",
      "Requirement already satisfied: pickleshare in /home/idies/miniconda3/envs/py37/lib/python3.7/site-packages (from ipython>=5.0.0->ipykernel>=4.10.0->radvel) (0.7.5)\n",
      "Requirement already satisfied: zipp>=0.5 in /home/idies/miniconda3/envs/py37/lib/python3.7/site-packages (from importlib-metadata; python_version == \"3.7\"->astropy>=1.1.2->radvel) (0.6.0)\n",
      "Requirement already satisfied: attrs>=17.4.0 in /home/idies/miniconda3/envs/py37/lib/python3.7/site-packages (from jsonschema!=2.5.0,>=2.4->nbformat->nbsphinx>=0.3.3->radvel) (19.2.0)\n",
      "Requirement already satisfied: pyrsistent>=0.14.0 in /home/idies/miniconda3/envs/py37/lib/python3.7/site-packages (from jsonschema!=2.5.0,>=2.4->nbformat->nbsphinx>=0.3.3->radvel) (0.15.4)\n",
      "Requirement already satisfied: webencodings in /home/idies/miniconda3/envs/py37/lib/python3.7/site-packages (from bleach->nbconvert!=5.4->nbsphinx>=0.3.3->radvel) (0.5.1)\n",
      "Requirement already satisfied: urllib3!=1.25.0,!=1.25.1,<1.26,>=1.21.1 in /home/idies/miniconda3/envs/py37/lib/python3.7/site-packages (from requests>=2.5.0->sphinx>=1.8->nbsphinx>=0.3.3->radvel) (1.24.2)\n",
      "Requirement already satisfied: chardet<3.1.0,>=3.0.2 in /home/idies/miniconda3/envs/py37/lib/python3.7/site-packages (from requests>=2.5.0->sphinx>=1.8->nbsphinx>=0.3.3->radvel) (3.0.4)\n",
      "Requirement already satisfied: certifi>=2017.4.17 in /home/idies/miniconda3/envs/py37/lib/python3.7/site-packages (from requests>=2.5.0->sphinx>=1.8->nbsphinx>=0.3.3->radvel) (2019.9.11)\n",
      "Requirement already satisfied: idna<2.9,>=2.5 in /home/idies/miniconda3/envs/py37/lib/python3.7/site-packages (from requests>=2.5.0->sphinx>=1.8->nbsphinx>=0.3.3->radvel) (2.8)\n",
      "Requirement already satisfied: parso>=0.5.0 in /home/idies/miniconda3/envs/py37/lib/python3.7/site-packages (from jedi>=0.10->ipython>=5.0.0->ipykernel>=4.10.0->radvel) (0.5.1)\n",
      "Requirement already satisfied: ptyprocess>=0.5 in /home/idies/miniconda3/envs/py37/lib/python3.7/site-packages (from pexpect; sys_platform != \"win32\"->ipython>=5.0.0->ipykernel>=4.10.0->radvel) (0.6.0)\n",
      "Requirement already satisfied: wcwidth in /home/idies/miniconda3/envs/py37/lib/python3.7/site-packages (from prompt-toolkit<2.1.0,>=2.0.0->ipython>=5.0.0->ipykernel>=4.10.0->radvel) (0.1.7)\n",
      "Requirement already satisfied: more-itertools in /home/idies/miniconda3/envs/py37/lib/python3.7/site-packages (from zipp>=0.5->importlib-metadata; python_version == \"3.7\"->astropy>=1.1.2->radvel) (7.2.0)\n",
      "Note: you may need to restart the kernel to use updated packages.\n"
     ]
    }
   ],
   "source": [
    "pip install radvel"
   ]
  },
  {
   "cell_type": "code",
   "execution_count": 3,
   "metadata": {},
   "outputs": [
    {
     "name": "stdout",
     "output_type": "stream",
     "text": [
      "Requirement already satisfied: pylightcurve in /home/idies/miniconda3/envs/py37/lib/python3.7/site-packages (4.0.1)\n",
      "Requirement already satisfied: scipy>=1.5.2 in /home/idies/miniconda3/envs/py37/lib/python3.7/site-packages (from pylightcurve) (1.7.3)\n",
      "Requirement already satisfied: astropy>=4.2 in /home/idies/miniconda3/envs/py37/lib/python3.7/site-packages (from pylightcurve) (4.3.1)\n",
      "Requirement already satisfied: emcee>=3.0.2 in /home/idies/miniconda3/envs/py37/lib/python3.7/site-packages (from pylightcurve) (3.1.1)\n",
      "Requirement already satisfied: numpy>=1.19.2 in /home/idies/miniconda3/envs/py37/lib/python3.7/site-packages (from pylightcurve) (1.21.5)\n",
      "Requirement already satisfied: matplotlib>=3.3.3 in /home/idies/miniconda3/envs/py37/lib/python3.7/site-packages (from pylightcurve) (3.5.1)\n",
      "Requirement already satisfied: pyyaml in /home/idies/miniconda3/envs/py37/lib/python3.7/site-packages (from pylightcurve) (5.1.2)\n",
      "Requirement already satisfied: importlib-metadata; python_version == \"3.7\" in /home/idies/miniconda3/envs/py37/lib/python3.7/site-packages (from astropy>=4.2->pylightcurve) (0.23)\n",
      "Requirement already satisfied: pyerfa>=1.7.3 in /home/idies/miniconda3/envs/py37/lib/python3.7/site-packages (from astropy>=4.2->pylightcurve) (2.0.0.1)\n",
      "Requirement already satisfied: kiwisolver>=1.0.1 in /home/idies/miniconda3/envs/py37/lib/python3.7/site-packages (from matplotlib>=3.3.3->pylightcurve) (1.1.0)\n",
      "Requirement already satisfied: pyparsing>=2.2.1 in /home/idies/miniconda3/envs/py37/lib/python3.7/site-packages (from matplotlib>=3.3.3->pylightcurve) (2.4.2)\n",
      "Requirement already satisfied: pillow>=6.2.0 in /home/idies/miniconda3/envs/py37/lib/python3.7/site-packages (from matplotlib>=3.3.3->pylightcurve) (6.2.0)\n",
      "Requirement already satisfied: packaging>=20.0 in /home/idies/miniconda3/envs/py37/lib/python3.7/site-packages (from matplotlib>=3.3.3->pylightcurve) (21.3)\n",
      "Requirement already satisfied: fonttools>=4.22.0 in /home/idies/miniconda3/envs/py37/lib/python3.7/site-packages (from matplotlib>=3.3.3->pylightcurve) (4.29.1)\n",
      "Requirement already satisfied: cycler>=0.10 in /home/idies/miniconda3/envs/py37/lib/python3.7/site-packages (from matplotlib>=3.3.3->pylightcurve) (0.10.0)\n",
      "Requirement already satisfied: python-dateutil>=2.7 in /home/idies/miniconda3/envs/py37/lib/python3.7/site-packages (from matplotlib>=3.3.3->pylightcurve) (2.8.0)\n",
      "Requirement already satisfied: zipp>=0.5 in /home/idies/miniconda3/envs/py37/lib/python3.7/site-packages (from importlib-metadata; python_version == \"3.7\"->astropy>=4.2->pylightcurve) (0.6.0)\n",
      "Requirement already satisfied: setuptools in /home/idies/miniconda3/envs/py37/lib/python3.7/site-packages (from kiwisolver>=1.0.1->matplotlib>=3.3.3->pylightcurve) (41.4.0)\n",
      "Requirement already satisfied: six in /home/idies/miniconda3/envs/py37/lib/python3.7/site-packages (from cycler>=0.10->matplotlib>=3.3.3->pylightcurve) (1.12.0)\n",
      "Requirement already satisfied: more-itertools in /home/idies/miniconda3/envs/py37/lib/python3.7/site-packages (from zipp>=0.5->importlib-metadata; python_version == \"3.7\"->astropy>=4.2->pylightcurve) (7.2.0)\n",
      "Note: you may need to restart the kernel to use updated packages.\n"
     ]
    }
   ],
   "source": [
    "pip install pylightcurve"
   ]
  },
  {
   "cell_type": "markdown",
   "metadata": {},
   "source": [
    "## Read in RV data for HD 17156 b"
   ]
  },
  {
   "cell_type": "code",
   "execution_count": 4,
   "metadata": {},
   "outputs": [
    {
     "data": {
      "text/plain": [
       "<TableColumns names=('JD','Radial_Velocity','Radial_Velocity_Uncertainty')>"
      ]
     },
     "execution_count": 4,
     "metadata": {},
     "output_type": "execute_result"
    }
   ],
   "source": [
    "rv_data = astropy.io.ascii.read(\"UID_0057087_RVC_003.tbl.txt\")\n",
    "\n",
    "rv_data.columns"
   ]
  },
  {
   "cell_type": "code",
   "execution_count": 5,
   "metadata": {},
   "outputs": [
    {
     "name": "stdout",
     "output_type": "stream",
     "text": [
      "    Downloading __databases__.pickle_new...\n",
      "    Done!\n",
      "Checking exotethys database...\n",
      "Checking ephemerides database...\n",
      "Checking photometry database...\n",
      "Checking catalogues database...\n"
     ]
    }
   ],
   "source": [
    "import pylightcurve as plc\n",
    "\n",
    "planet = plc.get_planet('gj436b')"
   ]
  },
  {
   "cell_type": "markdown",
   "metadata": {},
   "source": [
    "## Plot the best-fit model\n",
    "\n",
    "The five parameters in orbital solution are\n",
    "1. Period (T)\n",
    "2. Time at periastron ($t_0$)\n",
    "3. Eccentricity (e)\n",
    "4. Longitude of periastron ($\\omega$)\n",
    "5. RV semi-amplitude (K) \n",
    "\n",
    "We have obtained these values [here](https://exoplanetarchive.ipac.caltech.edu/overview/gj436b). "
   ]
  },
  {
   "cell_type": "code",
   "execution_count": 6,
   "metadata": {},
   "outputs": [
    {
     "name": "stderr",
     "output_type": "stream",
     "text": [
      "/home/idies/miniconda3/envs/py37/lib/python3.7/site-packages/radvel/gp.py:33: ImportWarning: celerite not installed. GP kernals using celerite will not work. Try installing celerite using 'pip install celerite'\n",
      "  Try installing celerite using 'pip install celerite'\", ImportWarning)\n"
     ]
    },
    {
     "data": {
      "image/png": "[encoded data removed]",
      "text/plain": [
       "<Figure size 432x288 with 1 Axes>"
      ]
     },
     "metadata": {
      "needs_background": "light"
     },
     "output_type": "display_data"
    }
   ],
   "source": [
    "t = rv_data[\"JD\"].data\n",
    "if False:\n",
    "    import JW_lib\n",
    "    orbital_solution = [2.64388312, 2455959, 0.13827, 351.00, 17.09]\n",
    "    rv = JW_lib.RadialVelocity(orbital_solution)\n",
    "    # The parameters are period, time at periastron, eccentricity, argument of periastron, RV semi-amplitude\n",
    "\n",
    "    # Calculate model RVs\n",
    "    rvs = rv.rv_drive(t)\n",
    "else:\n",
    "    import radvel\n",
    "    orbital_solution = [2.64388312, 2455959,  0.13827, 351.00 / 360.0 * 2 * np.pi, 17.09]\n",
    "    rvs = radvel.kepler.rv_drive(t, orbital_solution, use_c_kepler_solver=False)\n",
    "\n",
    "per = 2.64388312\n",
    "\n",
    "%matplotlib inline\n",
    "# Fold data and plot model against data\n",
    "ind = np.argsort(t % per)\n",
    "plt.errorbar(rv_data[\"JD\"] % per, rv_data[\"Radial_Velocity\"], rv_data[\"Radial_Velocity_Uncertainty\"], \n",
    "             color=\"black\", ms=5, marker=\"o\", ls=\"none\", label=\"Data\")\n",
    "plt.plot((t % per)[ind], rvs[ind], \"r-\", label=\"Model\", lw=3)\n",
    "plt.legend()\n",
    "plt.xlabel(\"Time [day]\")\n",
    "plt.ylabel(\"RV [m/s]\")\n",
    "plt.tight_layout()"
   ]
  },
  {
   "cell_type": "markdown",
   "metadata": {},
   "source": [
    "### Calculating the Planet's Mass\n",
    "\n",
    "The radial velocity semi-major amplitude is given by the following equation \n",
    "$K = \\frac{M_{p}}{M_{*}} \\sqrt{\\frac{G M_{*}}{a}} \\cdot \\sin(i)$\n",
    "\n",
    "We can rearrange this equation to solve for the mass of the planet:\n",
    "\n",
    "$M_{p} = \\frac{K M_{*}}{\\sin(i)} \\sqrt{\\frac{a}{G M_{*}}}$\n",
    "\n",
    "We find K, mass of the star $M_{*}$, inclination i, semi-major axis a, and gravitational constant G on [Nasa's Exoplanet Archive](https://exoplanetarchive.ipac.caltech.edu/overview/GJ%20436%20b#planet_GJ-436-b_collapsible).  "
   ]
  },
  {
   "cell_type": "code",
   "execution_count": 38,
   "metadata": {},
   "outputs": [
    {
     "name": "stdout",
     "output_type": "stream",
     "text": [
      "We have calculated the mass of the planet 21.698306557066104 Earth masses\n",
      "The actual mass of the planet is 22.1 Earth masses, with an uncertainty of ± 2.3 Earth masses\n"
     ]
    }
   ],
   "source": [
    "# Pulling data from NASA\n",
    "# Mass of star\n",
    "M_star = 0.4411671425335000 #in M_sun\n",
    "M_star_Uncertainty = 0.0093869025567100 #in M_sun \n",
    "\n",
    "#Radial velocity semi-major axis and uncertainty\n",
    "K = 17.09 # in m/s\n",
    "K_Uncertainty = 0.22 #in m/s\n",
    "\n",
    "# Semi-major axis and uncertainty \n",
    "a = 0.0291 #in au \n",
    "a_Uncertainty = 0.0015 #in au \n",
    "\n",
    "#Planet inclination and uncertainty \n",
    "planet_inclination = 86.44 #in degrees \n",
    "planet_inclination_Un = 0.17 # in degrees\n",
    "\n",
    "# Gravitational constant \n",
    "G = 6.67E-11 # in m^3 kg^−1 s^−2\n",
    "\n",
    "# Convert the inclination to radians \n",
    "planet_inclination_radian = planet_inclination * np.pi / 180\n",
    "\n",
    "# Mass of the earth and sun for converstion purposes\n",
    "M_earth = 5.9722E24 # in kilograms\n",
    "M_sun = 1.9891E30 # in kilograms\n",
    "\n",
    "# Mass of the star in kilograms \n",
    "M_star_kg = M_star * M_sun \n",
    "\n",
    "# Calculating the semi-major axis in meters by multiplying by one au in meters\n",
    "a_m = 0.0291 * 1.496E11 \n",
    "a_m_Uncertainty = 0.0015 * 1.496E11 \n",
    "\n",
    "# Calculate the mass of the planet \n",
    "M_planet = (K * M_star_kg * (a_m /(G * M_star_kg))**(1/2) )/ np.sin(planet_inclination_radian)\n",
    "\n",
    "# Convert the mass of the planet to earth masses\n",
    "M_planet_Earthmass = M_planet / M_earth\n",
    "\n",
    "# Print our results \n",
    "print('We have calculated the mass of the planet', M_planet_Earthmass,'Earth masses')\n",
    "print('The actual mass of the planet is', 22.1,'Earth masses, with an uncertainty of ± 2.3 Earth masses')"
   ]
  },
  {
   "cell_type": "markdown",
   "metadata": {},
   "source": [
    "### Propigating Uncertainties \n",
    "\n",
    "All of the data that we pulled from NASA's exoplanet archive had uncertainties, and we need to propogate those uncertainties through our calculations. \n",
    "\n",
    "We have decided to calculate the uncertainties for different components of the above equation \n",
    "\n",
    "$M_{p} = \\frac{K M_{*}}{\\sin(i)} \\sqrt{\\frac{a}{G M_{*}}}$\n",
    "First, we will calculate the uncertainty of the sine of the inclination. \n",
    "In order to calculate the uncertainty of the sine of the inclination we will use follow methods outlines by  [The City College of New York Physics Labs](https://physicslabs.ccnysites.cuny.edu/errors.php). \n",
    "\n",
    "We calculate the sine of the inclination, and the inclination plus its uncertainty. Then, we will take the difference of these two values, and the remainder will be the uncertainty of sin(i). \n",
    "\n",
    "$\\delta_{sin} =  \\mid\\sin{i} - \\sin(i + \\delta_{i}) \\mid$\n",
    "\n",
    "Next we decided to calculate the uncertainty of the $\\frac{K M_{*}}{\\sin(i)}$ portion of the equation. \n",
    "\n",
    "We followed the method of error propigation for multiplication and divison discussed online [here](https://www.statisticshowto.com/error-propagation/). This states that the uncertainty of a multiplication/division equation such as \n",
    "\n",
    "$Q = \\frac{a \\cdot b \\cdot .... c}{x \\cdot y \\cdot .... z}$\n",
    "\n",
    "Has an uncertainty equal to the itself multiplied by the sum of the uncertainties of each individual variable in quadrature:\n",
    "\n",
    "$\\delta Q = Q \\sqrt{(\\frac{\\delta a}{a})^2 + (\\frac{\\delta b}{b})^2 + ... + (\\frac{\\delta c}{c})^2 + (\\frac{\\delta x}{x})^2 + (\\frac{\\delta y}{y})^2 + ... + (\\frac{\\delta z}{z})^2} $\n",
    "\n",
    "\n",
    "We used this same method to compute the uncertainty of \n",
    "$\\frac{a}{G M_{*}}$\n",
    "\n",
    "Next, we computed the uncertatinty in $\\sqrt{\\frac{a}{G M_{*}}}$ using the power formula (also discussed [here](https://www.statisticshowto.com/error-propagation/)). The site states that for \n",
    "\n",
    "$Q = X^{n}$\n",
    "\n",
    "the uncertainty is \n",
    "\n",
    "$\\delta Q = \\mid Q \\mid \\mid n \\mid \\frac{\\delta x}{\\mid x \\mid}$\n",
    "\n",
    "It is important to note that the gravitational constant G, has no uncertainty. \n",
    "\n",
    "Finally, using the error propogation rules outlined above, we combined the uncertanties of $\\frac{K M_{*}}{\\sin(i)} $ and $\\sqrt{\\frac{a}{G M_{*}}}$ to get an uncertainty in the calculated mass of our planet. "
   ]
  },
  {
   "cell_type": "code",
   "execution_count": 49,
   "metadata": {},
   "outputs": [
    {
     "name": "stdout",
     "output_type": "stream",
     "text": [
      "The uncertainty in sin(i) is 0.00017984237066182018\n",
      "The mass of the planet is 21.698306557066104  Earth masses, with an uncertainty of 0.5869142121384188 Earth masses\n"
     ]
    }
   ],
   "source": [
    "# define the sine of inclination \n",
    "Sin_of_I = np.sin(planet_inclination_radian)\n",
    "\n",
    "# convert the uncertainty in inclination to radians for future calculations \n",
    "planet_inclination_uncertainty_radian = 0.17 * np.pi / 180\n",
    "\n",
    "# calculate the sine of the inclination plus the uncertainty \n",
    "Sin_of_I_plus_Unc = np.sin(planet_inclination_radian + planet_inclination_uncertainty_radian )\n",
    "\n",
    "# subtract the two to obtain uncertainty of sin(i)\n",
    "Unc_of_Sin_I = abs(Sin_of_I - Sin_of_I_plus_Unc)\n",
    "\n",
    "# Print this result \n",
    "print('The uncertainty in sin(i) is', Unc_of_Sin_I)\n",
    "\n",
    "# Calculate the uncertainty of the first part of our equation, K Mstar / sin(i)\n",
    "Unc_of_frac =  ((K * M_star) / Sin_of_I) * ((K_Uncertainty / K)**2 + (M_star_Uncertainty / M_star)**2 + (Unc_of_Sin_I / planet_inclination_radian)**2)**(.5)\n",
    "\n",
    "# Calculate the uncertainty of the second part of our equation, a / Mstar \n",
    "Unc_of_A_Mstar = (a_m / M_star) * ((a_m_Uncertainty / a_m)**2 + (M_star_Uncertainty/ M_star)**2)**(.5)\n",
    "\n",
    "# Note that the gravitational constant G has no uncertainty\n",
    "\n",
    "# Propogate this uncertainty through the square root of a / Mstar G \n",
    "Unc_of_sqrt = (a_m /(G * M_star_kg))**(1/2) *(.5) * Unc_of_A_Mstar /  (a_m / M_star)\n",
    "\n",
    "# Combine all of the uncertainties calculated above using the multiplication/ division rule\n",
    "# This is the uncertainty of the calculated mass of our planet, \n",
    "\n",
    "Unc_of_M_planet = M_planet * ((Unc_of_frac / ((K * M_star) / Sin_of_I))**2 + (Unc_of_sqrt/ ((a_m /(G * M_star_kg))**(1/2)))**2)**(.5)\n",
    "\n",
    "# Convert this uncertainty into earth masses for proper comparision to our calculated mass\n",
    "Unc_of_M_planet_in_Earthm = Unc_of_M_planet / M_earth\n",
    "\n",
    "# Print our results \n",
    "print('The mass of the planet is', M_planet_Earthmass, ' Earth masses, with an uncertainty of', Unc_of_M_planet_in_Earthm, 'Earth masses')"
   ]
  },
  {
   "cell_type": "markdown",
   "metadata": {},
   "source": [
    "### In my opinon we dont need to use any of the code below- but I am leaving it here just in case we realise that we need it for something, the rest of this notebook is the work of Dr. Ji Wang. "
   ]
  },
  {
   "cell_type": "markdown",
   "metadata": {},
   "source": [
    "## Fitting RV data for 436"
   ]
  },
  {
   "cell_type": "code",
   "execution_count": 7,
   "metadata": {},
   "outputs": [],
   "source": [
    "import scipy.signal as signal\n",
    "x = rv_data[\"JD\"]\n",
    "y = rv_data[\"Radial_Velocity\"]\n",
    "e = rv_data[\"Radial_Velocity_Uncertainty\"]"
   ]
  },
  {
   "cell_type": "markdown",
   "metadata": {},
   "source": [
    "## Finding the periodicity in the data"
   ]
  },
  {
   "cell_type": "code",
   "execution_count": 8,
   "metadata": {},
   "outputs": [],
   "source": [
    "nout = 1e5\n",
    "f = np.linspace(0.01, 10.0, int(nout)) # frequency (1/day) at which power is calculated. \n",
    "#pgram = signal.lombscargle(x, y, f, normalize=True)\n",
    "pgram = signal.lombscargle(x, y, f)"
   ]
  },
  {
   "cell_type": "code",
   "execution_count": 9,
   "metadata": {},
   "outputs": [
    {
     "data": {
      "text/plain": [
       "Text(0, 0.5, 'Power')"
      ]
     },
     "execution_count": 9,
     "metadata": {},
     "output_type": "execute_result"
    },
    {
     "data": {
      "image/png": "[encoded data removed]",
      "text/plain": [
       "<Figure size 432x288 with 2 Axes>"
      ]
     },
     "metadata": {
      "needs_background": "light"
     },
     "output_type": "display_data"
    }
   ],
   "source": [
    "plt.subplot(2, 1, 1)\n",
    "plt.errorbar(x, y , e, ms=5, marker=\"o\", ls=\"none\", color=\"black\")\n",
    "plt.xlabel(\"Time [JD]\")\n",
    "plt.ylabel(\"RV [m/s]\")\n",
    "\n",
    "plt.subplot(2, 1, 2)\n",
    "plt.plot(2 * np.pi / f, pgram, color=\"black\")\n",
    "plt.xscale(\"log\")\n",
    "plt.xlabel(\"Period [day]\")\n",
    "plt.ylabel(\"Power\")\n"
   ]
  },
  {
   "cell_type": "code",
   "execution_count": 10,
   "metadata": {},
   "outputs": [
    {
     "name": "stdout",
     "output_type": "stream",
     "text": [
      "The period with the highest power is:  2.6439321027765184  day\n"
     ]
    }
   ],
   "source": [
    "print(\"The period with the highest power is: \", 2 * np.pi / f[np.where(pgram == np.max(pgram))][0], \" day\")"
   ]
  },
  {
   "cell_type": "markdown",
   "metadata": {},
   "source": [
    "## Now gather information for orbital solution from references, we are ready for MCMC, which gives uncertainties for best-fit parameters.\n",
    "\n"
   ]
  },
  {
   "cell_type": "markdown",
   "metadata": {},
   "source": [
    "## Define a model function with five parameters: \n",
    "\n",
    "## period (day), time at periastron (MJD), eccentricity, argument of periastron (degree), RV amplitude (m/s)"
   ]
  },
  {
   "cell_type": "code",
   "execution_count": 16,
   "metadata": {},
   "outputs": [],
   "source": [
    "per = 2.64388312\n",
    "t0 = 2455959\n",
    "ecc = 0.13827\n",
    "omega = 351.00\n",
    "rv_amp = 17.09\n",
    "\n",
    "def calcModel(params, t_stamp=None):\n",
    "     per, t0, ecc, omega, rv_amp = params[\"per\"], params[\"t0\"], params[\"ecc\"], params[\"omega\"], params[\"K\"]\n",
    "     rv = JW_lib.RadialVelocity([per, t0, ecc, omega, rv_amp])\n",
    "     return(rv.rv_drive(t_stamp))\n",
    "\n",
    "def calcModel(params, t_stamp=None):\n",
    "    per, t0, ecc, omega, rv_amp = params[\"per\"], params[\"t0\"], params[\"ecc\"], params[\"omega\"], params[\"K\"]\n",
    "    return(radvel.kepler.rv_drive(t_stamp, [per, t0, ecc, omega, rv_amp], use_c_kepler_solver=False))"
   ]
  },
  {
   "cell_type": "markdown",
   "metadata": {},
   "source": [
    "## Define prior function "
   ]
  },
  {
   "cell_type": "code",
   "execution_count": 15,
   "metadata": {},
   "outputs": [],
   "source": [
    "# DONT CHANGE THIS ONE IT IS FOR REFERENCE WILL DELETE AT THE END\n",
    "def b_range(x, b):\n",
    "    if x > b:\n",
    "        return -np.inf\n",
    "    else:\n",
    "        return 0.\n",
    "\n",
    "def a_b_range(x, a, b):\n",
    "    if x < a:\n",
    "        return -np.inf\n",
    "    elif x > b:\n",
    "        return -np.inf\n",
    "    else:\n",
    "        return 0.\n",
    "\n",
    "def log_gaussian_prior(x, x0, std):\n",
    "    return((-(x - x0)**2 / (2 * (std)**2)) / 2.3)\n",
    "\n",
    "\n",
    "\n",
    "\n",
    "# define data and params that are fixed and variable\n",
    "#planet_name = \"HD 17156 b\"\n",
    "planet_name = \"HD 17156 b\"\n",
    "\n",
    "if planet_name == \"Teegarden b\":\n",
    "    log_priors = {}\n",
    "    log_priors['per']           = lambda x: a_b_range(x, 4.8, 5.0)\n",
    "    log_priors['t0']           = lambda x: a_b_range(x, 2458090.603207, 2458092.603207)\n",
    "    log_priors['ecc']           = lambda x: a_b_range(x, 0., 0.95)\n",
    "    log_priors['omega']       = lambda x: a_b_range(x, 0., 2*np.pi)\n",
    "    log_priors['K']           = lambda x: a_b_range(x, 1., 5.)\n",
    "    t_stamp      = rv_tg[\"col1\"]\n",
    "    data         = rv_tg[\"col2\"]\n",
    "    data_errors  = rv_tg[\"col3\"]\n",
    "\n",
    "    params = [4.910122, 2458091.603207, 0.222619, 82.339257 / 360 * 2 * np.pi,2.156248]\n",
    "    params_keys = [\"per\", \"t0\", \"ecc\", \"omega\", \"K\"]\n",
    "    params_fixed = []\n",
    "    params_fixed_keys = []\n",
    "elif planet_name == \"HD 17156 b\":\n",
    "    log_priors = {}\n",
    "    log_priors['per']           = lambda x: a_b_range(x, 20, 22)\n",
    "    log_priors['t0']           = lambda x: a_b_range(x, 2454436.751157, 2454440.751157)\n",
    "    log_priors['ecc']           = lambda x: a_b_range(x, 0., 0.95)\n",
    "    log_priors['omega']       = lambda x: a_b_range(x, 0., 360.)\n",
    "    log_priors['K']           = lambda x: a_b_range(x, 100., 500.)\n",
    "    t_stamp      = rv_data[\"JD\"]\n",
    "    data         = rv_data[\"Radial_Velocity\"]\n",
    "    data_errors  = rv_data[\"Radial_Velocity_Uncertainty\"]\n",
    "\n",
    "    params = [21.218473, 2454438.751157, 0.680984, 121.36 / 360 * 2 * np.pi, 275.6]\n",
    "    params_keys = [\"per\", \"t0\", \"ecc\", \"omega\", \"K\"]\n",
    "    params_fixed = []\n",
    "    params_fixed_keys = []\n",
    "else:\n",
    "    print(\"\"\" Give me either \"HD 17156 b\" or \"Teegarden b\" \"\"\")\n"
   ]
  },
  {
   "cell_type": "code",
   "execution_count": null,
   "metadata": {},
   "outputs": [],
   "source": [
    "def b_range(x, b):\n",
    "    if x > b:\n",
    "        return -np.inf\n",
    "    else:\n",
    "        return 0.\n",
    "\n",
    "def a_b_range(x, a, b):\n",
    "    if x < a:\n",
    "        return -np.inf\n",
    "    elif x > b:\n",
    "        return -np.inf\n",
    "    else:\n",
    "        return 0.\n",
    "\n",
    "def log_gaussian_prior(x, x0, std):\n",
    "    return((-(x - x0)**2 / (2 * (std)**2)) / 2.3)\n",
    "\n",
    "\n",
    "\n",
    "\n",
    "# define data and params that are fixed and variable\n",
    "\n",
    "planet_name = \"GJ 436\"\n",
    "\n",
    "if planet_name == \"Teegarden b\":\n",
    "    log_priors = {}\n",
    "    log_priors['per']           = lambda x: a_b_range(x, 2.5, 2.7)\n",
    "    log_priors['t0']           = lambda x: a_b_range(x, 2455958, 2455960)\n",
    "    log_priors['ecc']           = lambda x: a_b_range(x, 0., 0.95)\n",
    "    log_priors['omega']       = lambda x: a_b_range(x, 0., 2*np.pi)\n",
    "    log_priors['K']           = lambda x: a_b_range(x, 10, 20)\n",
    "    t_stamp      = rv_tg[\"col1\"]\n",
    "    data         = rv_tg[\"col2\"]\n",
    "    data_errors  = rv_tg[\"col3\"]\n",
    "\n",
    "    params = [2.64388312, 2455959,  0.13827, 351.00 / 360.0 * 2 * np.pi, 17.09]\n",
    "    params_keys = [\"per\", \"t0\", \"ecc\", \"omega\", \"K\"]\n",
    "    params_fixed = []\n",
    "    params_fixed_keys = []\n",
    "elif planet_name == \"HD 17156 b\":\n",
    "    log_priors = {}\n",
    "    log_priors['per']           = lambda x: a_b_range(x, 20, 22)\n",
    "    log_priors['t0']           = lambda x: a_b_range(x, 2454436.751157, 2454440.751157)\n",
    "    log_priors['ecc']           = lambda x: a_b_range(x, 0., 0.95)\n",
    "    log_priors['omega']       = lambda x: a_b_range(x, 0., 360.)\n",
    "    log_priors['K']           = lambda x: a_b_range(x, 100., 500.)\n",
    "    t_stamp      = rv_data[\"JD\"]\n",
    "    data         = rv_data[\"Radial_Velocity\"]\n",
    "    data_errors  = rv_data[\"Radial_Velocity_Uncertainty\"]\n",
    "\n",
    "    params = [21.218473, 2454438.751157, 0.680984, 121.36 / 360 * 2 * np.pi, 275.6]\n",
    "    params_keys = [\"per\", \"t0\", \"ecc\", \"omega\", \"K\"]\n",
    "    params_fixed = []\n",
    "    params_fixed_keys = []\n",
    "else:\n",
    "    print(\"\"\" Give me either \"HD 17156 b\" or \"Teegarden b\" \"\"\")"
   ]
  },
  {
   "cell_type": "markdown",
   "metadata": {},
   "source": [
    "## Define likelihood function "
   ]
  },
  {
   "cell_type": "code",
   "execution_count": null,
   "metadata": {},
   "outputs": [],
   "source": [
    "def calc_log_prob(params, data, data_errors, params_keys=params_keys, params_fixed=params_fixed, \\\n",
    "                  params_fixed_keys=params_fixed_keys, t_stamp=t_stamp, plot_flag=False):\n",
    "    # Make dictionary \n",
    "    params_dic = {}\n",
    "    for i, key in enumerate(params_keys):\n",
    "        params_dic[key]       = params[i]\n",
    "\n",
    "    for i, key in enumerate(params_fixed_keys):\n",
    "        params_dic[key]       = params_fixed[i]\n",
    "\n",
    "    # Prior calculation of all input parameters\n",
    "    log_prior = 0.\n",
    "\n",
    "    for key in params_keys:\n",
    "        if not(type(params_dic[key]) is list):\n",
    "            log_prior += log_priors[key](params_dic[key])\n",
    "        else:\n",
    "            for val in params_dic[key]:\n",
    "                log_prior += log_priors[key](val)\n",
    "\n",
    "    # Return -inf if parameters fall outside prior distribution\n",
    "    if (log_prior == -np.inf):\n",
    "        return -np.inf\n",
    "    \n",
    "    # Calculate the log-likelihood\n",
    "    log_likelihood = 0.\n",
    "\n",
    "    # Calculate the forward model, this\n",
    "    # returns the wavelengths in um and flux in W/m2\n",
    "\n",
    "    rv_model = calcModel(params_dic, t_stamp=t_stamp)\n",
    "\n",
    "    if plot_flag:\n",
    "        plt.plot(t_stamp, rv_model, \"k^-\", alpha=0.5, label=\"model\")\n",
    "        plt.plot(t_stamp, data, \"rx-\", alpha=0.5, label=\"data\")\n",
    "        plt.xlabel(\"Time [BJD]\")\n",
    "        plt.ylabel(\"RV [m/s]\")\n",
    "        plt.legend()\n",
    "        plt.show()\n",
    "\n",
    "    # Just to make sure that a long chain does not die\n",
    "    # unexpectedly:\n",
    "    # Return -inf if forward model returns NaN values\n",
    "    if np.sum(np.isnan(rv_model)) > 0:\n",
    "        print(\"NaN spectrum encountered\")\n",
    "        return -np.inf\n",
    "\n",
    "    # Calculate log-likelihood\n",
    "    log_likelihood += -np.sum(((rv_model - data)/ \\\n",
    "                       data_errors)**2.)/2.\n",
    "\n",
    "    if np.isnan(log_prior + log_likelihood):\n",
    "        return -np.inf\n",
    "    else:\n",
    "        return log_prior + log_likelihood\n",
    "\n"
   ]
  },
  {
   "cell_type": "markdown",
   "metadata": {},
   "source": [
    "## Test: calculate likelihood function"
   ]
  },
  {
   "cell_type": "code",
   "execution_count": null,
   "metadata": {},
   "outputs": [],
   "source": [
    "print(calc_log_prob(params, data, data_errors, plot_flag=True))"
   ]
  },
  {
   "cell_type": "markdown",
   "metadata": {},
   "source": [
    "## Now MCMC"
   ]
  },
  {
   "cell_type": "code",
   "execution_count": null,
   "metadata": {},
   "outputs": [],
   "source": [
    "import emcee"
   ]
  },
  {
   "cell_type": "code",
   "execution_count": null,
   "metadata": {},
   "outputs": [],
   "source": [
    "per = params[0]; e_per = 0.01\n",
    "t0 = params[1]; e_t0 = 0.05\n",
    "ecc = params[2]; e_ecc = 0.01\n",
    "omega = params[3]; e_omega = 0.1\n",
    "K = params[4]; e_K = 0.1\n",
    "\n",
    "\n",
    "p_0 = params\n",
    "e_p = [e_per, e_t0, e_ecc, e_omega, e_K]\n",
    "\n",
    "\n",
    "ndim, nwalkers, nruns = len(p_0), 200, 1000\n",
    "pos = [p_0 + e_p*np.random.randn(ndim) for i in range(nwalkers)]\n",
    "\n",
    "import time as timer\n",
    "start = timer.time()\n",
    "\n",
    "from multiprocessing import Pool\n",
    "\n",
    "# if pool works then use True, this option will use multi thread to increase computaional speed. Otherwise use False.\n",
    "if False: \n",
    "    with Pool() as pool:\n",
    "\n",
    "        # Initialize the sampler\n",
    "        sampler = emcee.EnsembleSampler(nwalkers, ndim, calc_log_prob,\n",
    "                                       args=(data, data_errors), pool=pool, threads=5)\n",
    "        sampler.run_mcmc(pos, 3000)\n",
    "\n",
    "\n",
    "        #End timer\n",
    "        end = timer.time()\n",
    "        serial_time = end - start\n",
    "        print(\"MCMC took {0:.1f} seconds\".format(serial_time))\n",
    "else:\n",
    "        # Initialize the sampler\n",
    "        sampler = emcee.EnsembleSampler(nwalkers, ndim, calc_log_prob,\n",
    "                                       args=(data, data_errors))\n",
    "        sampler.run_mcmc(pos, 3000)\n",
    "\n",
    "\n",
    "        #End timer\n",
    "        end = timer.time()\n",
    "        serial_time = end - start\n",
    "        print(\"MCMC took {0:.1f} seconds\".format(serial_time))    \n",
    "\n",
    "\n"
   ]
  },
  {
   "cell_type": "markdown",
   "metadata": {},
   "source": [
    "## Check MCMC result"
   ]
  },
  {
   "cell_type": "code",
   "execution_count": null,
   "metadata": {},
   "outputs": [],
   "source": [
    "samples = sampler.chain[:, 1000:, :].reshape((-1, ndim))[0:-1:10, :]\n",
    "\n",
    "\n",
    "print(\"flat chain shape: {0}\".format(samples.shape))\n"
   ]
  },
  {
   "cell_type": "code",
   "execution_count": null,
   "metadata": {},
   "outputs": [],
   "source": [
    "import corner\n",
    "fig = corner.corner(samples, labels=params_keys, plot_contours=True)\n"
   ]
  },
  {
   "cell_type": "markdown",
   "metadata": {},
   "source": [
    "## Plot models with data"
   ]
  },
  {
   "cell_type": "code",
   "execution_count": null,
   "metadata": {},
   "outputs": [],
   "source": [
    "fig, ax = plt.subplots(2,1)\n",
    "\n",
    "inds = np.random.randint(len(samples[:,0]), size=100)\n",
    "for ind in inds:\n",
    "    # Make dictionary \n",
    "    params_dic = {}\n",
    "    for i, key in enumerate(params_keys):\n",
    "        params_dic[key]       = samples[ind,:][i]        \n",
    "    for i, key in enumerate(params_fixed_keys):\n",
    "        params_dic[key]       = params_fixed[i]\n",
    "    #print(params_dic[\"logg\"])\n",
    "    rv_model = calcModel(params_dic, t_stamp=t_stamp)\n",
    "    ax[0].plot(t_stamp, rv_model, 'r', alpha=0.05,label='_nolegend_')\n",
    "    \n",
    "    \n",
    "ax[0].errorbar(t_stamp, data, data_errors, ms=5, marker=\"o\", alpha=0.2, ls=\"none\", color=\"black\", label=\"Data\")\n",
    "ax[0].plot(t_stamp, rv_model, \"r\", alpha=0.5, label=\"Model\")\n",
    "\n",
    "\n",
    "# Getting median values\n",
    "values = map(lambda v: (v[1], v[2]-v[1], v[1]-v[0]),\n",
    "                             zip(*np.percentile(samples, [16, 50, 84],\n",
    "                                                axis=0)))\n",
    "params = np.array(list(values))[:,0]\n",
    "params_fixed = []\n",
    "params_dic = {}\n",
    "for i, key in enumerate(params_keys):\n",
    "    params_dic[key]       = params[i]\n",
    "for i, key in enumerate(params_fixed_keys):\n",
    "    params_dic[key]       = params_fixed[i]\n",
    "\n",
    "\n",
    "rv_model = calcModel(params_dic, t_stamp=t_stamp)\n",
    "per = params_dic[\"per\"]\n",
    "ind1 = np.argsort(t_stamp % per)\n",
    "ax[1].errorbar(t_stamp % per, data, data_errors, ms=5, marker=\"o\", alpha=0.2, ls=\"none\", color=\"black\", label=\"Data\")\n",
    "ax[1].plot((t_stamp % per)[ind1], rv_model[ind1], \"r\", alpha=0.5,label='Model', lw=3)\n",
    "\n",
    "ax[1].set_xlabel(\"Time [BJD]\", fontsize=15)\n",
    "ax[0].set_ylabel(\"RV [m/s]\", fontsize=15)\n",
    "ax[1].set_ylabel(\"RV [m/s]\", fontsize=15)\n",
    "\n",
    "plt.gca().tick_params(labelsize=15)\n",
    "ax[1].legend(fontsize=15)\n",
    "# plt.tight_layout()\n",
    "# plt.savefig(\"model_data.png\")"
   ]
  },
  {
   "cell_type": "code",
   "execution_count": null,
   "metadata": {},
   "outputs": [],
   "source": [
    "print(limb_darkening_coefficients)"
   ]
  },
  {
   "cell_type": "code",
   "execution_count": null,
   "metadata": {},
   "outputs": [],
   "source": []
  }
 ],
 "metadata": {
  "kernelspec": {
   "display_name": "Python 3.8 (py38)",
   "language": "python",
   "name": "py38"
  },
  "language_info": {
   "codemirror_mode": {
    "name": "ipython",
    "version": 3
   },
   "file_extension": ".py",
   "mimetype": "text/x-python",
   "name": "python",
   "nbconvert_exporter": "python",
   "pygments_lexer": "ipython3",
   "version": "3.8.5"
  }
 },
 "nbformat": 4,
 "nbformat_minor": 2
}
