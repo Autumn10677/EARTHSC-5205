{
 "cells": [
  {
   "cell_type": "markdown",
   "metadata": {},
   "source": [
    "# Part II: Jupiter Simulations\n",
    "__Created By:__ Caitlin O'Brien <br>\n",
    "__Edited By:__ Bailey Stephens <br>\n",
    "__Creation Date:__ 2/1/2022"
   ]
  },
  {
   "cell_type": "code",
   "execution_count": 16,
   "metadata": {},
   "outputs": [],
   "source": [
    "### Importing necessary libraries\n",
    "import numpy as np\n",
    "import pandas as pd\n",
    "import math as math\n",
    "import matplotlib.pyplot as plt\n",
    "import astropy.io.ascii"
   ]
  },
  {
   "cell_type": "code",
   "execution_count": 17,
   "metadata": {},
   "outputs": [],
   "source": [
    "### Importing necessary functions from packages\n",
    "from math import pi\n",
    "from math import sin\n",
    "from math import sqrt\n",
    "from astropy.constants import G\n",
    "from astropy import units as u"
   ]
  },
  {
   "cell_type": "markdown",
   "metadata": {},
   "source": [
    "## Calculating Detection Signal of Different Methods"
   ]
  },
  {
   "cell_type": "markdown",
   "metadata": {},
   "source": [
    "We will be calculating detection signal of different methods for the case of a Jupiter-like planet around a Sun-like star. The next three cells define some useful constants relating to our solar system's Earth, Jupiter, and Sun."
   ]
  },
  {
   "cell_type": "code",
   "execution_count": 18,
   "metadata": {},
   "outputs": [],
   "source": [
    "# Sun Information\n",
    "M_s = 1988500e24 * u.kg            # mass (kg)\n",
    "r_s = 695700 * u.kilometer         # radius (km)\n",
    "g_s = 274 * (u.meter / (u.s)**2)   # gravity (m/s^2)\n",
    "L_s = 382.8e24 * (u.J / u.s)       # luminosity (J/s)"
   ]
  },
  {
   "cell_type": "code",
   "execution_count": 19,
   "metadata": {},
   "outputs": [],
   "source": [
    "# Jupiter Information\n",
    "M_j = 1898e24 * u.kg               # mass (kg)\n",
    "r_j = 71492 * u.kilometer          # radius (km)\n",
    "g_j = 23.1 * (u.meter / (u.s)**2)  # gravity (m/s^2)\n",
    "d_j = 778.5e6 * u.kilometer        # distance to sun (km)\n",
    "T_j = 3.742e8 * u.s                # orbital period (s)\n",
    "v_j = 13.1 * (u.kilometer / u.s)   # orbital velocity (km/s)\n",
    "i_j = 1.3                          # orbital inclination (degrees)\n",
    "e_j = 0.049                        # orbital eccentricity"
   ]
  },
  {
   "cell_type": "code",
   "execution_count": 20,
   "metadata": {},
   "outputs": [],
   "source": [
    "# Earth Information\n",
    "M_e = 5.97e24 * u.kg               # mass (kg)\n",
    "r_e = 6378 * u.kilometer           # radius (km)\n",
    "g_e = 9.8 * (u.meter / (u.s)**2)   # gravity (m/s^2)\n",
    "d_e = 149.6e6 * u.kilometer        # distance to sun (km)\n",
    "T_e = 31553280 * u.s               # orbital period (s)\n",
    "v_e = 29.8 * (u.kilometer / u.s)   # orbital velocity (km/s)\n",
    "i_e = 0.0                          # orbital inclination (degrees)\n",
    "e_e = 0.017                        # orbital eccentricity"
   ]
  },
  {
   "cell_type": "markdown",
   "metadata": {},
   "source": [
    "Next, we define methods to calculate the signals associated with each detection method."
   ]
  },
  {
   "cell_type": "markdown",
   "metadata": {},
   "source": [
    "### Radial Velocity\n",
    "The signal velocity _K_ used to detect exoplanets is given by\n",
    "\n",
    "\\begin{align*}\n",
    "K &= \\left( \\frac{M_\\text{exo}}{M_\\star} \\right) \\sqrt{\\frac{G M_\\star}{a}} \\sin{i}\n",
    "\\end{align*}\n",
    "\n",
    "where $G$ is the gravitational constant, $a$ is the semi-major axis of the exoplanet, and $M_\\text{exo}$ and $M_\\star$ are the masses of the exoplanet and host star respectively. We can then create a function that calculates this _K_ value and plug in the values for our simulated Jupiter."
   ]
  },
  {
   "cell_type": "code",
   "execution_count": 21,
   "metadata": {},
   "outputs": [
    {
     "name": "stdout",
     "output_type": "stream",
     "text": [
      "12.01978785199901 m / s\n"
     ]
    }
   ],
   "source": [
    "def K(M_exo,M_star,i,e,T):\n",
    "    \"\"\"\n",
    "    Takes in four values:\n",
    "        M_exo (Mass of Exoplanet)\n",
    "        M_star (Mass of host star)\n",
    "        i (inclination)\n",
    "        e (eccentricity)\n",
    "        T (period)\n",
    "    \n",
    "    Returns \"radial-velocity\" signal K\n",
    "    \"\"\"\n",
    "    K = ((2*pi*G)/(T))**(1/3)*((M_exo*sin(i))/(M_exo+M_star)**(2/3))*(1/(sqrt(1-e**2)))\n",
    "    return K\n",
    "    \n",
    "### Prints the K value for our simulated Jupiter\n",
    "print(K(M_j,M_s,i_j,e_j,T_j))"
   ]
  },
  {
   "cell_type": "markdown",
   "metadata": {},
   "source": [
    "Hence, the radial velocity signal _K_ = 12.02 m/s for our simulated Jupiter."
   ]
  },
  {
   "cell_type": "markdown",
   "metadata": {},
   "source": [
    "### Transit"
   ]
  },
  {
   "cell_type": "markdown",
   "metadata": {},
   "source": [
    "The first issue with detecting exoplanets using the transit method is that there is a low probability that the exoplanet's orbit falls between the observer and its host star. With the assumption that the exoplanet is much smaller than its host star ($\\text{R}_\\text{exo} << \\text{R}_\\star$), this probability is given by\n",
    "\n",
    "\\begin{align*}\n",
    "    \\text{(Transit Probability)} &= \\frac{\\text{R}_\\star}{a} \\approx 0.005 \\left( \\frac{\\text{R}_\\star}{\\text{R}_\\odot} \\right) \\left( \\frac{a}{1 \\text{ AU}} \\right)^{-1}\n",
    "\\end{align*}\n",
    "\n",
    "for approximately circular orbits. Assuming that this condition is met, then the \"signal to noise ratio\" (denoted by SNR) is given by\n",
    "\n",
    "\\begin{align*}\n",
    "    \\frac{\\text{S}}{\\text{N}} &= \\frac{\\delta}{\\sigma_\\text{CDPP}} \\sqrt{\\frac{n_\\text{tr} \\cdot t_\\text{dur}}{3 \\text{ hr}}}.\n",
    "\\end{align*}\n",
    "\n",
    "Both this probability and the SNR for our simulated jupiter are calculated below."
   ]
  },
  {
   "cell_type": "code",
   "execution_count": 24,
   "metadata": {},
   "outputs": [
    {
     "name": "stdout",
     "output_type": "stream",
     "text": [
      "0.0009374300578034682\n"
     ]
    }
   ],
   "source": [
    "def Prob(r_star,d_star,e):\n",
    "    \"\"\"\n",
    "    Takes in two values:\n",
    "        r_star (radius of the star)\n",
    "        d_star (distance to star)\n",
    "        e (eccentricity of exoplanet orbit)\n",
    "        \n",
    "    Produces semimajor axis value, then uses that value to\n",
    "    produce the probability of the exoplanet transiting in \n",
    "    front of its star, and thus if we can observe it.\n",
    "    \"\"\"\n",
    "    \n",
    "    a = d_star / (1+e)   #calculate semimajor axis\n",
    "    Prob = r_star / a    #calculate probability\n",
    "    \n",
    "    \"\"\"\n",
    "    This assumes the following:\n",
    "            1. The orbit is approximately circular\n",
    "            2. The radius of the exoplanet << radius of the star\n",
    "    \"\"\"\n",
    "    \n",
    "    return Prob\n",
    "\n",
    "### Prints the probability of our jupiter transiting\n",
    "print(Prob(r_s,d_j,e_j))"
   ]
  },
  {
   "cell_type": "code",
   "execution_count": 15,
   "metadata": {
    "scrolled": true
   },
   "outputs": [
    {
     "data": {
      "text/latex": [
       "$7851.5954 \\; \\mathrm{}$"
      ],
      "text/plain": [
       "<Quantity 7851.59540871>"
      ]
     },
     "execution_count": 15,
     "metadata": {},
     "output_type": "execute_result"
    }
   ],
   "source": [
    "def SNR(R_exo,R_star,d_star,e,P):\n",
    "    \"\"\"\n",
    "    Takes in variables:\n",
    "        R_exo (radius of exoplanet)\n",
    "        R_star (radius of star)\n",
    "        P (period)\n",
    "    \"\"\"\n",
    "    \n",
    "    a = d_star / (1+e)            #calculate semimajor axis\n",
    "    delta = R_exo**2 / R_star**2  # calculate photometric depth\n",
    "    n = P / (7.776e+6*u.s)        #calculate number of transits\n",
    "    t = (P*R_star) / (pi*a)       #calculate duration of transit\n",
    "    sigma = 30e-6                 #combined differential photometric precision\n",
    "    \n",
    "    # combine into SNR equation\n",
    "    SNR = (delta/sigma)*sqrt((n*t)/(10800*u.s))\n",
    "    \n",
    "    return SNR\n",
    "\n",
    "### Prints the SNR of our simulated Jupiter\n",
    "print(SNR(r_j,r_s,d_j,e_j,P_j))"
   ]
  },
  {
   "cell_type": "markdown",
   "metadata": {},
   "source": [
    "Hence, the probability of an observer being able to see this simulated Jupiter is approximately 0.094%, and the SNR produced by this transit would be approximately 7852."
   ]
  },
  {
   "cell_type": "markdown",
   "metadata": {},
   "source": [
    "### Direct Imaging"
   ]
  },
  {
   "cell_type": "markdown",
   "metadata": {},
   "source": [
    "There are two limiting factors that affect the direct imaging method: the Rayleigh limit and the star-planet contrast. The Rayleigh limit describes the minimum angular distance that two stellar objects must be from one another two be able to resolve them as two distinct objects. This equation is given by\n",
    "\n",
    "\\begin{align*}\n",
    "    \\theta \\approx 1.22 \\frac{\\lambda}{D}\n",
    "\\end{align*}\n",
    "\n",
    "where $\\lambda$ is the observation wavelength and D is the diameter of the aperture of the telescope being used. If we assume that the observational wavelength is the beak emission wavelength of a blackbody ($\\lambda = 22.3 \\mu m$) and the aperture is the largest available on Earth (D = 10.4 m), then we can calculate the minimum angular separation required. We also require that the star-planet contrast _f_ is great enough (typically cited as greater than $f=10^{-7}$). This contrast is given by\n",
    "\n",
    "\\begin{align*}\n",
    "    f = \\left( \\frac{R_{p}}{R_\\star} \\right)^2 \\cdot \\frac{{\\text{exp}\\left[\\frac{hc}{\\lambda k_{B}T_{\\star}}\\right]} - 1}{\\text{exp}\\left[\\frac{hc}{\\lambda k_{B}T_\\text{exo}}\\right] - 1}\n",
    "\\end{align*}\n",
    "\n",
    "Hence, we can simulate these requirements for our simulated Jupiter."
   ]
  },
  {
   "cell_type": "code",
   "execution_count": 26,
   "metadata": {},
   "outputs": [],
   "source": [
    "# we will be assuming peak emission wavelength of a blackbody\n",
    "lam = 22.3e-6*u.m\n",
    "# aperture diameter is approximated by greatest telescope on Earth\n",
    "D = 10.4*u.m\n",
    "# we will also be assuming a Jupiter temperature of 130 Kelvin\n",
    "T_j = 130*u.K"
   ]
  },
  {
   "cell_type": "code",
   "execution_count": 27,
   "metadata": {},
   "outputs": [
    {
     "name": "stdout",
     "output_type": "stream",
     "text": [
      "2.6159615384615386e-06\n"
     ]
    }
   ],
   "source": [
    "def theta(lamda, diameter):\n",
    "    \"\"\"\n",
    "    Takes in variables:\n",
    "        lamda (observation wavelength of telescope)\n",
    "        D (telescope diameter)\n",
    "    \"\"\"\n",
    "    \n",
    "    ### Calculates the required angular separation\n",
    "    theta = 1.22*(lamda/diameter)\n",
    "    \n",
    "    return theta\n",
    "\n",
    "### Calculates the Rayleigh limit for simulated Jupiter\n",
    "print(theta(lam, D))"
   ]
  },
  {
   "cell_type": "code",
   "execution_count": 11,
   "metadata": {
    "scrolled": true
   },
   "outputs": [
    {
     "data": {
      "text/latex": [
       "$8.7936819 \\times 10^{-6} \\; \\mathrm{}$"
      ],
      "text/plain": [
       "<Quantity 8.79368191e-06>"
      ]
     },
     "execution_count": 11,
     "metadata": {},
     "output_type": "execute_result"
    }
   ],
   "source": [
    "def f(R_p,R_star,T_star,T_exo):\n",
    "    \"\"\"\n",
    "    Takes in variables:\n",
    "            R_p (radius of planet)\n",
    "            R_star (radius of star)\n",
    "            lam (observation wavelength of telescope)\n",
    "            T_star (temperature of star)\n",
    "            T_exo (temperature of exoplanet)\n",
    "    \"\"\"\n",
    "    \n",
    "    h = 6.62607015e-34*((u.kg*u.m**2*u.s**-2)*u.s)       # Planck's constant\n",
    "    c = 299792458*(u.m/u.s)                              # speed of light\n",
    "    k_B = 1.380649e-23*((u.m**2)*(u.kg)/(u.s**2)/(u.K))  # Boltzmann constant\n",
    "    A = (math.exp((h*c)/(lam*k_B*T_star))-1)             # Numerator of f\n",
    "    B = (math.exp((h*c)/(lam*k_B*T_exo))-1)              # Denominator of f\n",
    "    \n",
    "    ### Calculates the star-planet contrast\n",
    "    f = ((R_p/R_star)**2)*(A/B)\n",
    "    return f\n",
    "\n",
    "### Calculates the star-planet constrast of simulated Jupiter\n",
    "f(r_j,r_s,T_s,T_j)"
   ]
  },
  {
   "cell_type": "markdown",
   "metadata": {},
   "source": [
    "Hence, the simulated must have an angular separation of at least $\\theta = 2.62*10^{-6}$ to be visually resolved, and it produces a star-planet constrast of $f=8.79*10^{-6}$."
   ]
  }
 ],
 "metadata": {
  "kernelspec": {
   "display_name": "Python 3.8 (py38)",
   "language": "python",
   "name": "py38"
  },
  "language_info": {
   "codemirror_mode": {
    "name": "ipython",
    "version": 3
   },
   "file_extension": ".py",
   "mimetype": "text/x-python",
   "name": "python",
   "nbconvert_exporter": "python",
   "pygments_lexer": "ipython3",
   "version": "3.8.5"
  }
 },
 "nbformat": 4,
 "nbformat_minor": 4
}
